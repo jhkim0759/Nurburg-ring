{
 "cells": [
  {
   "cell_type": "code",
   "execution_count": 45,
   "metadata": {},
   "outputs": [],
   "source": [
    "import bs4\n",
    "import time\n",
    "import os\n",
    "import pandas as pd\n",
    "import numpy as np\n",
    "import matplotlib.pyplot as plt\n",
    "from selenium.webdriver.common.keys import Keys\n",
    "from selenium import webdriver\n",
    "import re\n",
    "from xgboost import XGBClassifier\n",
    "from sklearn.model_selection import train_test_split,GridSearchCV\n",
    "from sklearn import metrics\n",
    "from sklearn.datasets import load_digits\n",
    "from math import sqrt"
   ]
  },
  {
   "cell_type": "markdown",
   "metadata": {},
   "source": [
    "# Pandas로 데이터 정리"
   ]
  },
  {
   "cell_type": "code",
   "execution_count": 46,
   "metadata": {},
   "outputs": [
    {
     "data": {
      "text/html": [
       "<div>\n",
       "<style scoped>\n",
       "    .dataframe tbody tr th:only-of-type {\n",
       "        vertical-align: middle;\n",
       "    }\n",
       "\n",
       "    .dataframe tbody tr th {\n",
       "        vertical-align: top;\n",
       "    }\n",
       "\n",
       "    .dataframe thead th {\n",
       "        text-align: right;\n",
       "    }\n",
       "</style>\n",
       "<table border=\"1\" class=\"dataframe\">\n",
       "  <thead>\n",
       "    <tr style=\"text-align: right;\">\n",
       "      <th></th>\n",
       "      <th>Unnamed: 0</th>\n",
       "      <th>CurbWeight</th>\n",
       "      <th>TopSpeed</th>\n",
       "      <th>Displacement</th>\n",
       "      <th>Power</th>\n",
       "      <th>Torque</th>\n",
       "      <th>vehicle</th>\n",
       "      <th>laptime</th>\n",
       "      <th>Price</th>\n",
       "      <th>Zero</th>\n",
       "    </tr>\n",
       "  </thead>\n",
       "  <tbody>\n",
       "    <tr>\n",
       "      <th>0</th>\n",
       "      <td>1.0</td>\n",
       "      <td>1626.0</td>\n",
       "      <td>325.0</td>\n",
       "      <td>4.0</td>\n",
       "      <td>730.0</td>\n",
       "      <td>800.0</td>\n",
       "      <td>AMG GT Black Series</td>\n",
       "      <td>403.62</td>\n",
       "      <td>337800</td>\n",
       "      <td>3.1</td>\n",
       "    </tr>\n",
       "    <tr>\n",
       "      <th>1</th>\n",
       "      <td>2.0</td>\n",
       "      <td>1525.0</td>\n",
       "      <td>354.0</td>\n",
       "      <td>6.5</td>\n",
       "      <td>770.0</td>\n",
       "      <td>720.0</td>\n",
       "      <td>Lamborghini Aventador SVJ</td>\n",
       "      <td>404.97</td>\n",
       "      <td>432300</td>\n",
       "      <td>2.8</td>\n",
       "    </tr>\n",
       "    <tr>\n",
       "      <th>2</th>\n",
       "      <td>3.0</td>\n",
       "      <td>650.0</td>\n",
       "      <td>290.0</td>\n",
       "      <td>2.8</td>\n",
       "      <td>455.0</td>\n",
       "      <td>380.0</td>\n",
       "      <td>Radical SR8LM</td>\n",
       "      <td>408.00</td>\n",
       "      <td>NaN</td>\n",
       "      <td>3.3</td>\n",
       "    </tr>\n",
       "  </tbody>\n",
       "</table>\n",
       "</div>"
      ],
      "text/plain": [
       "   Unnamed: 0  CurbWeight  TopSpeed  Displacement  Power  Torque  \\\n",
       "0         1.0      1626.0     325.0           4.0  730.0   800.0   \n",
       "1         2.0      1525.0     354.0           6.5  770.0   720.0   \n",
       "2         3.0       650.0     290.0           2.8  455.0   380.0   \n",
       "\n",
       "                     vehicle  laptime   Price  Zero  \n",
       "0        AMG GT Black Series   403.62  337800   3.1  \n",
       "1  Lamborghini Aventador SVJ   404.97  432300   2.8  \n",
       "2              Radical SR8LM   408.00     NaN   3.3  "
      ]
     },
     "execution_count": 46,
     "metadata": {},
     "output_type": "execute_result"
    }
   ],
   "source": [
    "df = pd.read_excel('vehicle.xlsx', engine = 'openpyxl')\n",
    "df_ = df[-31:]\n",
    "df = df[:-31]\n",
    "df.head(3)"
   ]
  },
  {
   "cell_type": "markdown",
   "metadata": {},
   "source": [
    "# 선형 회귀"
   ]
  },
  {
   "cell_type": "code",
   "execution_count": 52,
   "metadata": {},
   "outputs": [],
   "source": [
    "from sklearn.linear_model import LinearRegression\n",
    "from sklearn import metrics, preprocessing\n"
   ]
  },
  {
   "cell_type": "code",
   "execution_count": 53,
   "metadata": {},
   "outputs": [],
   "source": [
    "lm = LinearRegression(fit_intercept = True)   # 선형회기함수 정의"
   ]
  },
  {
   "cell_type": "code",
   "execution_count": 60,
   "metadata": {},
   "outputs": [],
   "source": [
    "Y_data = df[\"laptime\"].values                 # X 데이터, Y 데이터로 나눈 뒤 Train 데이터, Test 데이터로 나눔\n",
    "X_data = df[[\"CurbWeight\",\"Displacement\",\"TopSpeed\", \"Power\",\"Torque\",\"Zero\"]].values\n",
    "X_train, X_test, Y_train, Y_test = train_test_split(X_data, Y_data, test_size=0.2, random_state=1234)"
   ]
  },
  {
   "cell_type": "code",
   "execution_count": 61,
   "metadata": {},
   "outputs": [
    {
     "data": {
      "text/plain": [
       "LinearRegression()"
      ]
     },
     "execution_count": 61,
     "metadata": {},
     "output_type": "execute_result"
    }
   ],
   "source": [
    "lm.fit(X_train,Y_train)                       # Train데이터로 선형회기 훈련"
   ]
  },
  {
   "cell_type": "code",
   "execution_count": 62,
   "metadata": {},
   "outputs": [
    {
     "name": "stdout",
     "output_type": "stream",
     "text": [
      "Tree best RMSE : 12.023\n"
     ]
    }
   ],
   "source": [
    "Y_pred = lm.predict(X_test)                   # Test데이터로 선형회기 예측 후 RMSE값 측정\n",
    "difference = lm.predict(X_data)-Y_data\n",
    "print( \"Tree best RMSE : \" + str(np.round(np.sqrt(metrics.mean_squared_error(Y_test,Y_pred)),3)))"
   ]
  },
  {
   "cell_type": "code",
   "execution_count": 63,
   "metadata": {},
   "outputs": [
    {
     "data": {
      "image/png": "[encoded data removed]",
      "text/plain": [
       "<Figure size 1440x720 with 1 Axes>"
      ]
     },
     "metadata": {
      "needs_background": "light"
     },
     "output_type": "display_data"
    }
   ],
   "source": [
    "plt.figure(figsize = (20,10))                 # 전체 데이터와 예측값의 차이를 Plot에 시각화\n",
    "plt.plot([400,540],[0,0],'--', c ='blue')\n",
    "plt.scatter(Y_data, difference, c = 'red')\n",
    "plt.show()"
   ]
  },
  {
   "cell_type": "code",
   "execution_count": 59,
   "metadata": {},
   "outputs": [
    {
     "name": "stdout",
     "output_type": "stream",
     "text": [
      "('CurbWeight', 1.5)\n",
      "('Displacement', -0.1)\n",
      "('TopSpeed', -0.08)\n",
      "('Power', 0.03)\n",
      "('Torque', 12.04)\n",
      "466.93668010433424\n"
     ]
    }
   ],
   "source": [
    "para = lm.coef_.round(2)\n",
    "for p in zip([\"CurbWeight\",\"Displacement\",\"TopSpeed\", \"Power\",\"Torque\"],para) :\n",
    "    print(p)\n",
    "print(lm.intercept_)"
   ]
  },
  {
   "cell_type": "code",
   "execution_count": 64,
   "metadata": {},
   "outputs": [],
   "source": [
    "from sklearn.model_selection import train_test_split,GridSearchCV\n",
    "from sklearn.ensemble import RandomForestRegressor\n",
    "from sklearn import metrics\n",
    "from sklearn.datasets import load_digits"
   ]
  },
  {
   "cell_type": "code",
   "execution_count": 65,
   "metadata": {},
   "outputs": [],
   "source": [
    "depth_grid = np.arange(1,21)                  # 하이퍼파라미터의 범위 설정\n",
    "n_estimators=np.arange(50,200)\n",
    "min_samples_leaf_grid = np.arange(2,31,2)\n",
    "max_leaf_nodes_grid = np.arange(2,51,2)\n",
    "parameters = {'max_depth':depth_grid, 'min_samples_leaf':min_samples_leaf_grid, 'max_leaf_nodes':max_leaf_nodes_grid }"
   ]
  },
  {
   "cell_type": "code",
   "execution_count": 66,
   "metadata": {},
   "outputs": [
    {
     "ename": "KeyboardInterrupt",
     "evalue": "",
     "output_type": "error",
     "traceback": [
      "\u001b[1;31m---------------------------------------------------------------------------\u001b[0m",
      "\u001b[1;31mKeyboardInterrupt\u001b[0m                         Traceback (most recent call last)",
      "\u001b[1;32m<ipython-input-66-c5d34f6af06c>\u001b[0m in \u001b[0;36m<module>\u001b[1;34m\u001b[0m\n\u001b[0;32m      1\u001b[0m \u001b[0mgridCV\u001b[0m \u001b[1;33m=\u001b[0m \u001b[0mGridSearchCV\u001b[0m\u001b[1;33m(\u001b[0m\u001b[0mRandomForestRegressor\u001b[0m\u001b[1;33m(\u001b[0m\u001b[1;33m)\u001b[0m\u001b[1;33m,\u001b[0m \u001b[0mparameters\u001b[0m\u001b[1;33m,\u001b[0m \u001b[0mcv\u001b[0m\u001b[1;33m=\u001b[0m\u001b[1;36m10\u001b[0m\u001b[1;33m,\u001b[0m \u001b[0mn_jobs\u001b[0m \u001b[1;33m=\u001b[0m \u001b[1;33m-\u001b[0m\u001b[1;36m1\u001b[0m\u001b[1;33m)\u001b[0m   \u001b[1;31m# RandomForestRegressor함수 입력\u001b[0m\u001b[1;33m\u001b[0m\u001b[1;33m\u001b[0m\u001b[0m\n\u001b[1;32m----> 2\u001b[1;33m \u001b[0mgridCV\u001b[0m\u001b[1;33m.\u001b[0m\u001b[0mfit\u001b[0m\u001b[1;33m(\u001b[0m\u001b[0mX_train\u001b[0m\u001b[1;33m,\u001b[0m \u001b[0mY_train\u001b[0m\u001b[1;33m)\u001b[0m                                                      \u001b[1;31m# 데이터의 최적화된 하이퍼파라미터의 찾기\u001b[0m\u001b[1;33m\u001b[0m\u001b[1;33m\u001b[0m\u001b[0m\n\u001b[0m\u001b[0;32m      3\u001b[0m \u001b[0mbest_depth\u001b[0m \u001b[1;33m=\u001b[0m \u001b[0mgridCV\u001b[0m\u001b[1;33m.\u001b[0m\u001b[0mbest_params_\u001b[0m\u001b[1;33m[\u001b[0m\u001b[1;34m'max_depth'\u001b[0m\u001b[1;33m]\u001b[0m\u001b[1;33m\u001b[0m\u001b[1;33m\u001b[0m\u001b[0m\n\u001b[0;32m      4\u001b[0m \u001b[0mbest_min_samples_leaf\u001b[0m \u001b[1;33m=\u001b[0m \u001b[0mgridCV\u001b[0m\u001b[1;33m.\u001b[0m\u001b[0mbest_params_\u001b[0m\u001b[1;33m[\u001b[0m\u001b[1;34m'min_samples_leaf'\u001b[0m\u001b[1;33m]\u001b[0m\u001b[1;33m\u001b[0m\u001b[1;33m\u001b[0m\u001b[0m\n\u001b[0;32m      5\u001b[0m \u001b[0mbest_max_leaf_nodes\u001b[0m \u001b[1;33m=\u001b[0m \u001b[0mgridCV\u001b[0m\u001b[1;33m.\u001b[0m\u001b[0mbest_params_\u001b[0m\u001b[1;33m[\u001b[0m\u001b[1;34m'max_leaf_nodes'\u001b[0m\u001b[1;33m]\u001b[0m\u001b[1;33m\u001b[0m\u001b[1;33m\u001b[0m\u001b[0m\n",
      "\u001b[1;32mC:\\anaconda\\lib\\site-packages\\sklearn\\utils\\validation.py\u001b[0m in \u001b[0;36minner_f\u001b[1;34m(*args, **kwargs)\u001b[0m\n\u001b[0;32m     70\u001b[0m                           FutureWarning)\n\u001b[0;32m     71\u001b[0m         \u001b[0mkwargs\u001b[0m\u001b[1;33m.\u001b[0m\u001b[0mupdate\u001b[0m\u001b[1;33m(\u001b[0m\u001b[1;33m{\u001b[0m\u001b[0mk\u001b[0m\u001b[1;33m:\u001b[0m \u001b[0marg\u001b[0m \u001b[1;32mfor\u001b[0m \u001b[0mk\u001b[0m\u001b[1;33m,\u001b[0m \u001b[0marg\u001b[0m \u001b[1;32min\u001b[0m \u001b[0mzip\u001b[0m\u001b[1;33m(\u001b[0m\u001b[0msig\u001b[0m\u001b[1;33m.\u001b[0m\u001b[0mparameters\u001b[0m\u001b[1;33m,\u001b[0m \u001b[0margs\u001b[0m\u001b[1;33m)\u001b[0m\u001b[1;33m}\u001b[0m\u001b[1;33m)\u001b[0m\u001b[1;33m\u001b[0m\u001b[1;33m\u001b[0m\u001b[0m\n\u001b[1;32m---> 72\u001b[1;33m         \u001b[1;32mreturn\u001b[0m \u001b[0mf\u001b[0m\u001b[1;33m(\u001b[0m\u001b[1;33m**\u001b[0m\u001b[0mkwargs\u001b[0m\u001b[1;33m)\u001b[0m\u001b[1;33m\u001b[0m\u001b[1;33m\u001b[0m\u001b[0m\n\u001b[0m\u001b[0;32m     73\u001b[0m     \u001b[1;32mreturn\u001b[0m \u001b[0minner_f\u001b[0m\u001b[1;33m\u001b[0m\u001b[1;33m\u001b[0m\u001b[0m\n\u001b[0;32m     74\u001b[0m \u001b[1;33m\u001b[0m\u001b[0m\n",
      "\u001b[1;32mC:\\anaconda\\lib\\site-packages\\sklearn\\model_selection\\_search.py\u001b[0m in \u001b[0;36mfit\u001b[1;34m(self, X, y, groups, **fit_params)\u001b[0m\n\u001b[0;32m    734\u001b[0m                 \u001b[1;32mreturn\u001b[0m \u001b[0mresults\u001b[0m\u001b[1;33m\u001b[0m\u001b[1;33m\u001b[0m\u001b[0m\n\u001b[0;32m    735\u001b[0m \u001b[1;33m\u001b[0m\u001b[0m\n\u001b[1;32m--> 736\u001b[1;33m             \u001b[0mself\u001b[0m\u001b[1;33m.\u001b[0m\u001b[0m_run_search\u001b[0m\u001b[1;33m(\u001b[0m\u001b[0mevaluate_candidates\u001b[0m\u001b[1;33m)\u001b[0m\u001b[1;33m\u001b[0m\u001b[1;33m\u001b[0m\u001b[0m\n\u001b[0m\u001b[0;32m    737\u001b[0m \u001b[1;33m\u001b[0m\u001b[0m\n\u001b[0;32m    738\u001b[0m         \u001b[1;31m# For multi-metric evaluation, store the best_index_, best_params_ and\u001b[0m\u001b[1;33m\u001b[0m\u001b[1;33m\u001b[0m\u001b[1;33m\u001b[0m\u001b[0m\n",
      "\u001b[1;32mC:\\anaconda\\lib\\site-packages\\sklearn\\model_selection\\_search.py\u001b[0m in \u001b[0;36m_run_search\u001b[1;34m(self, evaluate_candidates)\u001b[0m\n\u001b[0;32m   1186\u001b[0m     \u001b[1;32mdef\u001b[0m \u001b[0m_run_search\u001b[0m\u001b[1;33m(\u001b[0m\u001b[0mself\u001b[0m\u001b[1;33m,\u001b[0m \u001b[0mevaluate_candidates\u001b[0m\u001b[1;33m)\u001b[0m\u001b[1;33m:\u001b[0m\u001b[1;33m\u001b[0m\u001b[1;33m\u001b[0m\u001b[0m\n\u001b[0;32m   1187\u001b[0m         \u001b[1;34m\"\"\"Search all candidates in param_grid\"\"\"\u001b[0m\u001b[1;33m\u001b[0m\u001b[1;33m\u001b[0m\u001b[0m\n\u001b[1;32m-> 1188\u001b[1;33m         \u001b[0mevaluate_candidates\u001b[0m\u001b[1;33m(\u001b[0m\u001b[0mParameterGrid\u001b[0m\u001b[1;33m(\u001b[0m\u001b[0mself\u001b[0m\u001b[1;33m.\u001b[0m\u001b[0mparam_grid\u001b[0m\u001b[1;33m)\u001b[0m\u001b[1;33m)\u001b[0m\u001b[1;33m\u001b[0m\u001b[1;33m\u001b[0m\u001b[0m\n\u001b[0m\u001b[0;32m   1189\u001b[0m \u001b[1;33m\u001b[0m\u001b[0m\n\u001b[0;32m   1190\u001b[0m \u001b[1;33m\u001b[0m\u001b[0m\n",
      "\u001b[1;32mC:\\anaconda\\lib\\site-packages\\sklearn\\model_selection\\_search.py\u001b[0m in \u001b[0;36mevaluate_candidates\u001b[1;34m(candidate_params)\u001b[0m\n\u001b[0;32m    706\u001b[0m                               n_splits, n_candidates, n_candidates * n_splits))\n\u001b[0;32m    707\u001b[0m \u001b[1;33m\u001b[0m\u001b[0m\n\u001b[1;32m--> 708\u001b[1;33m                 out = parallel(delayed(_fit_and_score)(clone(base_estimator),\n\u001b[0m\u001b[0;32m    709\u001b[0m                                                        \u001b[0mX\u001b[0m\u001b[1;33m,\u001b[0m \u001b[0my\u001b[0m\u001b[1;33m,\u001b[0m\u001b[1;33m\u001b[0m\u001b[1;33m\u001b[0m\u001b[0m\n\u001b[0;32m    710\u001b[0m                                                        \u001b[0mtrain\u001b[0m\u001b[1;33m=\u001b[0m\u001b[0mtrain\u001b[0m\u001b[1;33m,\u001b[0m \u001b[0mtest\u001b[0m\u001b[1;33m=\u001b[0m\u001b[0mtest\u001b[0m\u001b[1;33m,\u001b[0m\u001b[1;33m\u001b[0m\u001b[1;33m\u001b[0m\u001b[0m\n",
      "\u001b[1;32mC:\\anaconda\\lib\\site-packages\\joblib\\parallel.py\u001b[0m in \u001b[0;36m__call__\u001b[1;34m(self, iterable)\u001b[0m\n\u001b[0;32m   1059\u001b[0m \u001b[1;33m\u001b[0m\u001b[0m\n\u001b[0;32m   1060\u001b[0m             \u001b[1;32mwith\u001b[0m \u001b[0mself\u001b[0m\u001b[1;33m.\u001b[0m\u001b[0m_backend\u001b[0m\u001b[1;33m.\u001b[0m\u001b[0mretrieval_context\u001b[0m\u001b[1;33m(\u001b[0m\u001b[1;33m)\u001b[0m\u001b[1;33m:\u001b[0m\u001b[1;33m\u001b[0m\u001b[1;33m\u001b[0m\u001b[0m\n\u001b[1;32m-> 1061\u001b[1;33m                 \u001b[0mself\u001b[0m\u001b[1;33m.\u001b[0m\u001b[0mretrieve\u001b[0m\u001b[1;33m(\u001b[0m\u001b[1;33m)\u001b[0m\u001b[1;33m\u001b[0m\u001b[1;33m\u001b[0m\u001b[0m\n\u001b[0m\u001b[0;32m   1062\u001b[0m             \u001b[1;31m# Make sure that we get a last message telling us we are done\u001b[0m\u001b[1;33m\u001b[0m\u001b[1;33m\u001b[0m\u001b[1;33m\u001b[0m\u001b[0m\n\u001b[0;32m   1063\u001b[0m             \u001b[0melapsed_time\u001b[0m \u001b[1;33m=\u001b[0m \u001b[0mtime\u001b[0m\u001b[1;33m.\u001b[0m\u001b[0mtime\u001b[0m\u001b[1;33m(\u001b[0m\u001b[1;33m)\u001b[0m \u001b[1;33m-\u001b[0m \u001b[0mself\u001b[0m\u001b[1;33m.\u001b[0m\u001b[0m_start_time\u001b[0m\u001b[1;33m\u001b[0m\u001b[1;33m\u001b[0m\u001b[0m\n",
      "\u001b[1;32mC:\\anaconda\\lib\\site-packages\\joblib\\parallel.py\u001b[0m in \u001b[0;36mretrieve\u001b[1;34m(self)\u001b[0m\n\u001b[0;32m    938\u001b[0m             \u001b[1;32mtry\u001b[0m\u001b[1;33m:\u001b[0m\u001b[1;33m\u001b[0m\u001b[1;33m\u001b[0m\u001b[0m\n\u001b[0;32m    939\u001b[0m                 \u001b[1;32mif\u001b[0m \u001b[0mgetattr\u001b[0m\u001b[1;33m(\u001b[0m\u001b[0mself\u001b[0m\u001b[1;33m.\u001b[0m\u001b[0m_backend\u001b[0m\u001b[1;33m,\u001b[0m \u001b[1;34m'supports_timeout'\u001b[0m\u001b[1;33m,\u001b[0m \u001b[1;32mFalse\u001b[0m\u001b[1;33m)\u001b[0m\u001b[1;33m:\u001b[0m\u001b[1;33m\u001b[0m\u001b[1;33m\u001b[0m\u001b[0m\n\u001b[1;32m--> 940\u001b[1;33m                     \u001b[0mself\u001b[0m\u001b[1;33m.\u001b[0m\u001b[0m_output\u001b[0m\u001b[1;33m.\u001b[0m\u001b[0mextend\u001b[0m\u001b[1;33m(\u001b[0m\u001b[0mjob\u001b[0m\u001b[1;33m.\u001b[0m\u001b[0mget\u001b[0m\u001b[1;33m(\u001b[0m\u001b[0mtimeout\u001b[0m\u001b[1;33m=\u001b[0m\u001b[0mself\u001b[0m\u001b[1;33m.\u001b[0m\u001b[0mtimeout\u001b[0m\u001b[1;33m)\u001b[0m\u001b[1;33m)\u001b[0m\u001b[1;33m\u001b[0m\u001b[1;33m\u001b[0m\u001b[0m\n\u001b[0m\u001b[0;32m    941\u001b[0m                 \u001b[1;32melse\u001b[0m\u001b[1;33m:\u001b[0m\u001b[1;33m\u001b[0m\u001b[1;33m\u001b[0m\u001b[0m\n\u001b[0;32m    942\u001b[0m                     \u001b[0mself\u001b[0m\u001b[1;33m.\u001b[0m\u001b[0m_output\u001b[0m\u001b[1;33m.\u001b[0m\u001b[0mextend\u001b[0m\u001b[1;33m(\u001b[0m\u001b[0mjob\u001b[0m\u001b[1;33m.\u001b[0m\u001b[0mget\u001b[0m\u001b[1;33m(\u001b[0m\u001b[1;33m)\u001b[0m\u001b[1;33m)\u001b[0m\u001b[1;33m\u001b[0m\u001b[1;33m\u001b[0m\u001b[0m\n",
      "\u001b[1;32mC:\\anaconda\\lib\\site-packages\\joblib\\_parallel_backends.py\u001b[0m in \u001b[0;36mwrap_future_result\u001b[1;34m(future, timeout)\u001b[0m\n\u001b[0;32m    540\u001b[0m         AsyncResults.get from multiprocessing.\"\"\"\n\u001b[0;32m    541\u001b[0m         \u001b[1;32mtry\u001b[0m\u001b[1;33m:\u001b[0m\u001b[1;33m\u001b[0m\u001b[1;33m\u001b[0m\u001b[0m\n\u001b[1;32m--> 542\u001b[1;33m             \u001b[1;32mreturn\u001b[0m \u001b[0mfuture\u001b[0m\u001b[1;33m.\u001b[0m\u001b[0mresult\u001b[0m\u001b[1;33m(\u001b[0m\u001b[0mtimeout\u001b[0m\u001b[1;33m=\u001b[0m\u001b[0mtimeout\u001b[0m\u001b[1;33m)\u001b[0m\u001b[1;33m\u001b[0m\u001b[1;33m\u001b[0m\u001b[0m\n\u001b[0m\u001b[0;32m    543\u001b[0m         \u001b[1;32mexcept\u001b[0m \u001b[0mCfTimeoutError\u001b[0m \u001b[1;32mas\u001b[0m \u001b[0me\u001b[0m\u001b[1;33m:\u001b[0m\u001b[1;33m\u001b[0m\u001b[1;33m\u001b[0m\u001b[0m\n\u001b[0;32m    544\u001b[0m             \u001b[1;32mraise\u001b[0m \u001b[0mTimeoutError\u001b[0m \u001b[1;32mfrom\u001b[0m \u001b[0me\u001b[0m\u001b[1;33m\u001b[0m\u001b[1;33m\u001b[0m\u001b[0m\n",
      "\u001b[1;32mC:\\anaconda\\lib\\concurrent\\futures\\_base.py\u001b[0m in \u001b[0;36mresult\u001b[1;34m(self, timeout)\u001b[0m\n\u001b[0;32m    432\u001b[0m                 \u001b[1;32mreturn\u001b[0m \u001b[0mself\u001b[0m\u001b[1;33m.\u001b[0m\u001b[0m__get_result\u001b[0m\u001b[1;33m(\u001b[0m\u001b[1;33m)\u001b[0m\u001b[1;33m\u001b[0m\u001b[1;33m\u001b[0m\u001b[0m\n\u001b[0;32m    433\u001b[0m \u001b[1;33m\u001b[0m\u001b[0m\n\u001b[1;32m--> 434\u001b[1;33m             \u001b[0mself\u001b[0m\u001b[1;33m.\u001b[0m\u001b[0m_condition\u001b[0m\u001b[1;33m.\u001b[0m\u001b[0mwait\u001b[0m\u001b[1;33m(\u001b[0m\u001b[0mtimeout\u001b[0m\u001b[1;33m)\u001b[0m\u001b[1;33m\u001b[0m\u001b[1;33m\u001b[0m\u001b[0m\n\u001b[0m\u001b[0;32m    435\u001b[0m \u001b[1;33m\u001b[0m\u001b[0m\n\u001b[0;32m    436\u001b[0m             \u001b[1;32mif\u001b[0m \u001b[0mself\u001b[0m\u001b[1;33m.\u001b[0m\u001b[0m_state\u001b[0m \u001b[1;32min\u001b[0m \u001b[1;33m[\u001b[0m\u001b[0mCANCELLED\u001b[0m\u001b[1;33m,\u001b[0m \u001b[0mCANCELLED_AND_NOTIFIED\u001b[0m\u001b[1;33m]\u001b[0m\u001b[1;33m:\u001b[0m\u001b[1;33m\u001b[0m\u001b[1;33m\u001b[0m\u001b[0m\n",
      "\u001b[1;32mC:\\anaconda\\lib\\threading.py\u001b[0m in \u001b[0;36mwait\u001b[1;34m(self, timeout)\u001b[0m\n\u001b[0;32m    300\u001b[0m         \u001b[1;32mtry\u001b[0m\u001b[1;33m:\u001b[0m    \u001b[1;31m# restore state no matter what (e.g., KeyboardInterrupt)\u001b[0m\u001b[1;33m\u001b[0m\u001b[1;33m\u001b[0m\u001b[0m\n\u001b[0;32m    301\u001b[0m             \u001b[1;32mif\u001b[0m \u001b[0mtimeout\u001b[0m \u001b[1;32mis\u001b[0m \u001b[1;32mNone\u001b[0m\u001b[1;33m:\u001b[0m\u001b[1;33m\u001b[0m\u001b[1;33m\u001b[0m\u001b[0m\n\u001b[1;32m--> 302\u001b[1;33m                 \u001b[0mwaiter\u001b[0m\u001b[1;33m.\u001b[0m\u001b[0macquire\u001b[0m\u001b[1;33m(\u001b[0m\u001b[1;33m)\u001b[0m\u001b[1;33m\u001b[0m\u001b[1;33m\u001b[0m\u001b[0m\n\u001b[0m\u001b[0;32m    303\u001b[0m                 \u001b[0mgotit\u001b[0m \u001b[1;33m=\u001b[0m \u001b[1;32mTrue\u001b[0m\u001b[1;33m\u001b[0m\u001b[1;33m\u001b[0m\u001b[0m\n\u001b[0;32m    304\u001b[0m             \u001b[1;32melse\u001b[0m\u001b[1;33m:\u001b[0m\u001b[1;33m\u001b[0m\u001b[1;33m\u001b[0m\u001b[0m\n",
      "\u001b[1;31mKeyboardInterrupt\u001b[0m: "
     ]
    }
   ],
   "source": [
    "gridCV = GridSearchCV(RandomForestRegressor(), parameters, cv=5, n_jobs = -1)   # RandomForestRegressor함수 입력\n",
    "gridCV.fit(X_train, Y_train)                                                      # 데이터의 최적화된 하이퍼파라미터의 찾기\n",
    "best_depth = gridCV.best_params_['max_depth']\n",
    "best_min_samples_leaf = gridCV.best_params_['min_samples_leaf']                   \n",
    "best_max_leaf_nodes = gridCV.best_params_['max_leaf_nodes']"
   ]
  },
  {
   "cell_type": "code",
   "execution_count": 67,
   "metadata": {},
   "outputs": [
    {
     "name": "stdout",
     "output_type": "stream",
     "text": [
      "Tree best RMSE : 11.345\n"
     ]
    }
   ],
   "source": [
    "RFR_best = RandomForestRegressor(max_depth=best_depth,min_samples_leaf=best_min_samples_leaf,max_leaf_nodes=best_max_leaf_nodes)\n",
    "RFR_best.fit(X_train, Y_train)                                                  # 최적화된 하이퍼파라미터를 입력하고 훈련\n",
    "Y_pred = RFR_best.predict(X_test)                                               # 예측모델의 Test데이터를 이용하여 RMSE 출력\n",
    "print( \"Tree best RMSE : \" + str(np.round(np.sqrt(metrics.mean_squared_error(Y_test,Y_pred)),3)))\n",
    "Y_pred_RFR=RFR_best.predict(X_data)"
   ]
  },
  {
   "cell_type": "code",
   "execution_count": 68,
   "metadata": {},
   "outputs": [
    {
     "data": {
      "text/plain": [
       "(13, 2, 50)"
      ]
     },
     "execution_count": 68,
     "metadata": {},
     "output_type": "execute_result"
    }
   ],
   "source": [
    "best_depth ,best_min_samples_leaf,best_max_leaf_nodes \n"
   ]
  },
  {
   "cell_type": "code",
   "execution_count": 69,
   "metadata": {},
   "outputs": [
    {
     "data": {
      "image/png": "[encoded data removed]",
      "text/plain": [
       "<Figure size 1440x720 with 1 Axes>"
      ]
     },
     "metadata": {
      "needs_background": "light"
     },
     "output_type": "display_data"
    }
   ],
   "source": [
    "plt.figure(figsize = (20,10))                                                   # 예측모델의 Test데이터를 이용하여 RMSE 출력\n",
    "plt.plot([400,540],[0,0],'--', c ='blue')\n",
    "plt.xlabel(\"Laptime(sec)\")\n",
    "plt.ylabel(\"Difference\")\n",
    "plt.scatter(Y_data,Y_pred_RFR-Y_data)\n",
    "plt.show()"
   ]
  },
  {
   "cell_type": "code",
   "execution_count": 70,
   "metadata": {},
   "outputs": [
    {
     "name": "stdout",
     "output_type": "stream",
     "text": [
      "Tree best RMSE : 11.601\n"
     ]
    }
   ],
   "source": [
    "RFR_best = RandomForestRegressor(max_depth=19,min_samples_leaf=2,max_leaf_nodes=46)\n",
    "RFR_best.fit(X_train, Y_train)                                                  # 최적화된 하이퍼파라미터를 입력하고 훈련\n",
    "Y_pred = RFR_best.predict(X_test)                                               # 예측모델의 Test데이터를 이용하여 RMSE 출력\n",
    "print( \"Tree best RMSE : \" + str(np.round(np.sqrt(metrics.mean_squared_error(Y_test,Y_pred)),3)))\n",
    "Y_pred_RFR=RFR_best.predict(X_data)"
   ]
  },
  {
   "cell_type": "code",
   "execution_count": 71,
   "metadata": {},
   "outputs": [
    {
     "data": {
      "image/png": "[encoded data removed]",
      "text/plain": [
       "<Figure size 1440x720 with 1 Axes>"
      ]
     },
     "metadata": {
      "needs_background": "light"
     },
     "output_type": "display_data"
    }
   ],
   "source": [
    "plt.figure(figsize = (20,10))                                                   # 예측모델의 Test데이터를 이용하여 RMSE 출력\n",
    "plt.plot([400,540],[0,0],'--', c ='blue')\n",
    "plt.xlabel(\"Laptime(sec)\")\n",
    "plt.ylabel(\"Difference\")\n",
    "plt.scatter(Y_data,Y_pred_RFR-Y_data)\n",
    "plt.show()"
   ]
  },
  {
   "cell_type": "code",
   "execution_count": 72,
   "metadata": {},
   "outputs": [
    {
     "data": {
      "image/png": "[encoded data removed]",
      "text/plain": [
       "<Figure size 432x288 with 1 Axes>"
      ]
     },
     "metadata": {
      "needs_background": "light"
     },
     "output_type": "display_data"
    }
   ],
   "source": [
    "import seaborn as sns\n",
    "variable_names = [\"CurbWeight\",\"Displacement\",\"TopSpeed\", \"Power\",\"Torque\",\"Zero\"]\n",
    "variable_importance = pd.Series(RFR_best.feature_importances_, index = variable_names)\n",
    "top_variables_10 = variable_importance.sort_values(ascending=False)[:]\n",
    "sns.barplot(x=top_variables_10.values, y = top_variables_10.index, ci=None)\n",
    "plt.show()"
   ]
  },
  {
   "cell_type": "code",
   "execution_count": 75,
   "metadata": {},
   "outputs": [
    {
     "name": "stdout",
     "output_type": "stream",
     "text": [
      "Tree best SCORE : 0.69\n"
     ]
    }
   ],
   "source": [
    "print( \"Tree best SCORE : \" + str(RFR_best.score(X_test,Y_test).round(2)))"
   ]
  },
  {
   "cell_type": "code",
   "execution_count": 76,
   "metadata": {},
   "outputs": [
    {
     "name": "stdout",
     "output_type": "stream",
     "text": [
      "G70 3.3 터보가솔린 차종의 예상 Laptime은 | 485.13\n",
      "스팅어 3.3 터보가솔린 차종의 예상 Laptime은 | 489.53\n",
      "K9 3.3 터보가솔린차종의 예상 Laptime은 | 498.9\n",
      "G90 3.3 터보가솔린 차종의 예상 Laptime은 | 503.35\n",
      "그랜저 3.3 가솔린 차종의 예상 Laptime은 | 516.4\n",
      "말리부 2. 0터보 차종의 예상 Laptime은 | 519.24\n",
      "그랜저 2.4 가솔린 차종의 예상 Laptime은 | 527.53\n",
      "K7 2.5 가솔린 차종의 예상 Laptime은 | 527.53\n",
      "팰리세이드 2.2디젤 차종의 예상 Laptime은 | 523.47\n",
      "I30N 라인 차종의 예상 Laptime은 | 519.91\n",
      "K3 GT(5도어) 차종의 예상 Laptime은 | 526.75\n",
      "G80 3.3 가솔린차종의 예상 Laptime은 | 505.35\n",
      "코나 1.6 터보가솔린 차종의 예상 Laptime은 | 525.13\n",
      "셀토스 1.6터보가솔린차종의 예상 Laptime은 | 525.19\n",
      "쏘울 EV 차종의 예상 Laptime은 | 523.7\n",
      "니로 EV차종의 예상 Laptime은 | 523.7\n",
      "스포티지 2.0 디젤 차종의 예상 Laptime은 | 518.33\n",
      "K5 2.0 가솔린 차종의 예상 Laptime은 | 512.15\n",
      "쏘나타2.0 가솔린 차종의 예상 Laptime은 | 511.9\n",
      "투싼2.0 디젤 차종의 예상 Laptime은 | 518.51\n",
      "티볼리 1.6 디젤 차종의 예상 Laptime은 | 521.12\n",
      "베뉴 1.6 가솔린 차종의 예상 Laptime은 | 523.53\n",
      "K3 1.6 가솔린 차종의 예상 Laptime은 | 517.6\n",
      "아반떼 1.6 가솔린 차종의 예상 Laptime은 | 519.3\n",
      "카니발 2.2디젤 차종의 예상 Laptime은 | 518.34\n",
      "스파크 1.0 가솔린차종의 예상 Laptime은 | 521.9\n",
      "모닝 1.0 가솔린 차종의 예상 Laptime은 | 522.33\n",
      "레이 1.0 가솔린 차종의 예상 Laptime은 | 522.33\n",
      "스타렉스 2.5 디젤차종의 예상 Laptime은 | 523.91\n"
     ]
    }
   ],
   "source": [
    "X_Korea = df_[[\"CurbWeight\",\"Displacement\",\"TopSpeed\", \"Power\",\"Torque\",\"Zero\"]].values\n",
    "X_Korea = X_Korea[:-2]\n",
    "Y_pred = RFR_best.predict(X_Korea)  \n",
    "for c, l in zip(df_[\"vehicle\"],Y_pred):\n",
    "    print(c+ \"차종의 예상 Laptime은 | \"+str(round(l,2)) )"
   ]
  },
  {
   "cell_type": "code",
   "execution_count": null,
   "metadata": {},
   "outputs": [],
   "source": []
  }
 ],
 "metadata": {
  "kernelspec": {
   "display_name": "Python 3",
   "language": "python",
   "name": "python3"
  },
  "language_info": {
   "codemirror_mode": {
    "name": "ipython",
    "version": 3
   },
   "file_extension": ".py",
   "mimetype": "text/x-python",
   "name": "python",
   "nbconvert_exporter": "python",
   "pygments_lexer": "ipython3",
   "version": "3.8.5"
  },
  "widgets": {
   "application/vnd.jupyter.widget-state+json": {
    "state": {
     "01a35037801d45778851c6ef6f5c907f": {
      "model_module": "@jupyter-widgets/controls",
      "model_module_version": "1.5.0",
      "model_name": "HTMLModel",
      "state": {
       "layout": "IPY_MODEL_ea77e1289e9344af9fa8e55a3e327bf1",
       "style": "IPY_MODEL_e0f6d238094c4f4a91928c5b9567eca3",
       "value": " 1/1 [01:07&lt;00:00, 67.71s/it]"
      }
     },
     "051f81c793e64141a220a64552eae8e3": {
      "model_module": "@jupyter-widgets/controls",
      "model_module_version": "1.5.0",
      "model_name": "HTMLModel",
      "state": {
       "layout": "IPY_MODEL_385568d714354187903ad796ee0a1009",
       "style": "IPY_MODEL_3978695bbe074626a4444a3e45b331e8",
       "value": "Export report to file: 100%"
      }
     },
     "061bbe5784c54e4f95863c3e24886bad": {
      "model_module": "@jupyter-widgets/controls",
      "model_module_version": "1.5.0",
      "model_name": "HBoxModel",
      "state": {
       "children": [
        "IPY_MODEL_7bc7ca6667b0491a9c0d29e14b2f19ac",
        "IPY_MODEL_2380ea277bcc49aeb1546a197b746e92",
        "IPY_MODEL_2abea6471cb449b9b1b59355dde5ebba"
       ],
       "layout": "IPY_MODEL_5d27d146a2fb4400bc1ee158f23a8a61"
      }
     },
     "0731398c903243d49957e76b51975360": {
      "model_module": "@jupyter-widgets/base",
      "model_module_version": "1.2.0",
      "model_name": "LayoutModel",
      "state": {}
     },
     "0fe458f26f5741d2845fe0d1c603746f": {
      "model_module": "@jupyter-widgets/base",
      "model_module_version": "1.2.0",
      "model_name": "LayoutModel",
      "state": {}
     },
     "147f0c8208a24402b967222bf0215bcb": {
      "model_module": "@jupyter-widgets/controls",
      "model_module_version": "1.5.0",
      "model_name": "HBoxModel",
      "state": {
       "children": [
        "IPY_MODEL_27179af3062d43c3a7d81d191d6fcaa6",
        "IPY_MODEL_22b5bacc5f9147d28e60774c74f2c7a9",
        "IPY_MODEL_01a35037801d45778851c6ef6f5c907f"
       ],
       "layout": "IPY_MODEL_284b660cd73e465db371cc2ecb7101ec"
      }
     },
     "1cea9356caa94516aea1c2f00b19200b": {
      "model_module": "@jupyter-widgets/base",
      "model_module_version": "1.2.0",
      "model_name": "LayoutModel",
      "state": {}
     },
     "1ed551922b434a4db72c42d39d9c526a": {
      "model_module": "@jupyter-widgets/base",
      "model_module_version": "1.2.0",
      "model_name": "LayoutModel",
      "state": {}
     },
     "21c7c9bb6f6c4b3cb1982306f87051e2": {
      "model_module": "@jupyter-widgets/base",
      "model_module_version": "1.2.0",
      "model_name": "LayoutModel",
      "state": {}
     },
     "22b5bacc5f9147d28e60774c74f2c7a9": {
      "model_module": "@jupyter-widgets/controls",
      "model_module_version": "1.5.0",
      "model_name": "FloatProgressModel",
      "state": {
       "bar_style": "success",
       "layout": "IPY_MODEL_2f147cca5d844f24809b135bd39aaffc",
       "max": 1,
       "style": "IPY_MODEL_b3038935ec434873bfe7318d75920390",
       "value": 1
      }
     },
     "2380ea277bcc49aeb1546a197b746e92": {
      "model_module": "@jupyter-widgets/controls",
      "model_module_version": "1.5.0",
      "model_name": "FloatProgressModel",
      "state": {
       "bar_style": "success",
       "layout": "IPY_MODEL_f075900bdec34c3f9b8da9725870091a",
       "max": 14,
       "style": "IPY_MODEL_5204426e89c54991a091377f0f8ddc86",
       "value": 14
      }
     },
     "255f428a1c3240b7a90cf2a457366e20": {
      "model_module": "@jupyter-widgets/controls",
      "model_module_version": "1.5.0",
      "model_name": "HTMLModel",
      "state": {
       "layout": "IPY_MODEL_b78f857feb3a40c784b44979ae40d739",
       "style": "IPY_MODEL_a6cdaa85cbb746a9a989c2e27e2e791b",
       "value": " 21/21 [00:12&lt;00:00,  1.74it/s, Completed]"
      }
     },
     "27179af3062d43c3a7d81d191d6fcaa6": {
      "model_module": "@jupyter-widgets/controls",
      "model_module_version": "1.5.0",
      "model_name": "HTMLModel",
      "state": {
       "layout": "IPY_MODEL_1ed551922b434a4db72c42d39d9c526a",
       "style": "IPY_MODEL_562187249acd489f9bffe283a862a5ef",
       "value": "Generate report structure: 100%"
      }
     },
     "284b660cd73e465db371cc2ecb7101ec": {
      "model_module": "@jupyter-widgets/base",
      "model_module_version": "1.2.0",
      "model_name": "LayoutModel",
      "state": {}
     },
     "2abea6471cb449b9b1b59355dde5ebba": {
      "model_module": "@jupyter-widgets/controls",
      "model_module_version": "1.5.0",
      "model_name": "HTMLModel",
      "state": {
       "layout": "IPY_MODEL_733437fd6c1a4c94a83ef4867e022402",
       "style": "IPY_MODEL_c144973c997f4b69864bfb509cc75976",
       "value": " 14/14 [01:08&lt;00:00,  4.87s/it, Completed]"
      }
     },
     "2c3ca4bde315486b87c308c0d92b5c1d": {
      "model_module": "@jupyter-widgets/controls",
      "model_module_version": "1.5.0",
      "model_name": "HTMLModel",
      "state": {
       "layout": "IPY_MODEL_9dce5255faf54f229d569932473edf9e",
       "style": "IPY_MODEL_e382a21ec0364f1eb148589c292b6bc9",
       "value": " 1/1 [00:40&lt;00:00, 40.51s/it]"
      }
     },
     "2f147cca5d844f24809b135bd39aaffc": {
      "model_module": "@jupyter-widgets/base",
      "model_module_version": "1.2.0",
      "model_name": "LayoutModel",
      "state": {}
     },
     "303371032f6d4ec690a64ff36c7de7c5": {
      "model_module": "@jupyter-widgets/base",
      "model_module_version": "1.2.0",
      "model_name": "LayoutModel",
      "state": {}
     },
     "31e5b73ddceb42e6a2a63aa05e56ec6b": {
      "model_module": "@jupyter-widgets/controls",
      "model_module_version": "1.5.0",
      "model_name": "HTMLModel",
      "state": {
       "layout": "IPY_MODEL_cb5cf2af8a55485c8eda1f95cd8d04c4",
       "style": "IPY_MODEL_36bd74e0dcb94f9ea4e316d7c71bf4dc",
       "value": " 1/1 [14:49&lt;00:00, 889.21s/it]"
      }
     },
     "36bd74e0dcb94f9ea4e316d7c71bf4dc": {
      "model_module": "@jupyter-widgets/controls",
      "model_module_version": "1.5.0",
      "model_name": "DescriptionStyleModel",
      "state": {
       "description_width": ""
      }
     },
     "385568d714354187903ad796ee0a1009": {
      "model_module": "@jupyter-widgets/base",
      "model_module_version": "1.2.0",
      "model_name": "LayoutModel",
      "state": {}
     },
     "3978695bbe074626a4444a3e45b331e8": {
      "model_module": "@jupyter-widgets/controls",
      "model_module_version": "1.5.0",
      "model_name": "DescriptionStyleModel",
      "state": {
       "description_width": ""
      }
     },
     "39f630cba9434364b963767a2c48a2c8": {
      "model_module": "@jupyter-widgets/base",
      "model_module_version": "1.2.0",
      "model_name": "LayoutModel",
      "state": {}
     },
     "3da761ac6b1a428aa72cc9190490acb8": {
      "model_module": "@jupyter-widgets/base",
      "model_module_version": "1.2.0",
      "model_name": "LayoutModel",
      "state": {}
     },
     "3fca177148ea4dff82e4f9f0000b29b4": {
      "model_module": "@jupyter-widgets/controls",
      "model_module_version": "1.5.0",
      "model_name": "HBoxModel",
      "state": {
       "children": [
        "IPY_MODEL_9b42e48479dd48b1b749655ddf1c014c",
        "IPY_MODEL_e171023071c64bd990dfa20e0a8fd33d",
        "IPY_MODEL_255f428a1c3240b7a90cf2a457366e20"
       ],
       "layout": "IPY_MODEL_e318b559939a46dc8017db68c253f132"
      }
     },
     "46f7c081128d4e4b9b6a462cfb6a4223": {
      "model_module": "@jupyter-widgets/controls",
      "model_module_version": "1.5.0",
      "model_name": "HTMLModel",
      "state": {
       "layout": "IPY_MODEL_6a3f344961c841ceaf22b28c6c07df96",
       "style": "IPY_MODEL_877aaa42645c467987f944b23059bfd0",
       "value": "Export report to file: 100%"
      }
     },
     "4c4b5da6a89f4ec5ae58eedb3f66711b": {
      "model_module": "@jupyter-widgets/controls",
      "model_module_version": "1.5.0",
      "model_name": "ProgressStyleModel",
      "state": {
       "description_width": ""
      }
     },
     "5204426e89c54991a091377f0f8ddc86": {
      "model_module": "@jupyter-widgets/controls",
      "model_module_version": "1.5.0",
      "model_name": "ProgressStyleModel",
      "state": {
       "description_width": ""
      }
     },
     "5332a5a4e4304115aef021880cd59ab7": {
      "model_module": "@jupyter-widgets/base",
      "model_module_version": "1.2.0",
      "model_name": "LayoutModel",
      "state": {}
     },
     "54ed0bd2813d4e0daed2bec4fa3479e5": {
      "model_module": "@jupyter-widgets/controls",
      "model_module_version": "1.5.0",
      "model_name": "HTMLModel",
      "state": {
       "layout": "IPY_MODEL_622c63ba4a3e4857982d721dd804422d",
       "style": "IPY_MODEL_f3b6dfbb1d42497db2f51ba57467bcd0",
       "value": " 1/1 [00:40&lt;00:00, 40.02s/it]"
      }
     },
     "562187249acd489f9bffe283a862a5ef": {
      "model_module": "@jupyter-widgets/controls",
      "model_module_version": "1.5.0",
      "model_name": "DescriptionStyleModel",
      "state": {
       "description_width": ""
      }
     },
     "5b00b30db4d1416c8c80b9e4449132f7": {
      "model_module": "@jupyter-widgets/controls",
      "model_module_version": "1.5.0",
      "model_name": "FloatProgressModel",
      "state": {
       "bar_style": "success",
       "layout": "IPY_MODEL_65346bc42bc341ae83c7bcfe02b941d1",
       "max": 1,
       "style": "IPY_MODEL_66330e64f4534638afa0815591a07315",
       "value": 1
      }
     },
     "5d06d2698bb44719b138263f9332ceba": {
      "model_module": "@jupyter-widgets/controls",
      "model_module_version": "1.5.0",
      "model_name": "HTMLModel",
      "state": {
       "layout": "IPY_MODEL_f60a4597b235481aa3f5f9267d1c2452",
       "style": "IPY_MODEL_f7656580ff4e4085ac736ef131dbfe07",
       "value": " 1/1 [11:13&lt;00:00, 673.72s/it]"
      }
     },
     "5d27d146a2fb4400bc1ee158f23a8a61": {
      "model_module": "@jupyter-widgets/base",
      "model_module_version": "1.2.0",
      "model_name": "LayoutModel",
      "state": {}
     },
     "622c63ba4a3e4857982d721dd804422d": {
      "model_module": "@jupyter-widgets/base",
      "model_module_version": "1.2.0",
      "model_name": "LayoutModel",
      "state": {}
     },
     "649f79a4852f4eddb4780fc1046be6bd": {
      "model_module": "@jupyter-widgets/base",
      "model_module_version": "1.2.0",
      "model_name": "LayoutModel",
      "state": {}
     },
     "65346bc42bc341ae83c7bcfe02b941d1": {
      "model_module": "@jupyter-widgets/base",
      "model_module_version": "1.2.0",
      "model_name": "LayoutModel",
      "state": {}
     },
     "66330e64f4534638afa0815591a07315": {
      "model_module": "@jupyter-widgets/controls",
      "model_module_version": "1.5.0",
      "model_name": "ProgressStyleModel",
      "state": {
       "description_width": ""
      }
     },
     "6a3f344961c841ceaf22b28c6c07df96": {
      "model_module": "@jupyter-widgets/base",
      "model_module_version": "1.2.0",
      "model_name": "LayoutModel",
      "state": {}
     },
     "6cb58b33e1224139ae3dd5dae8e9e032": {
      "model_module": "@jupyter-widgets/controls",
      "model_module_version": "1.5.0",
      "model_name": "HTMLModel",
      "state": {
       "layout": "IPY_MODEL_6d7171d5024345f18f0c9a5e7c4f8e1c",
       "style": "IPY_MODEL_9c9cb69172934d169c67518b7459e5fd",
       "value": "Render HTML: 100%"
      }
     },
     "6d7171d5024345f18f0c9a5e7c4f8e1c": {
      "model_module": "@jupyter-widgets/base",
      "model_module_version": "1.2.0",
      "model_name": "LayoutModel",
      "state": {}
     },
     "6e1a75a963fd4d6fb01b2f2316e95453": {
      "model_module": "@jupyter-widgets/controls",
      "model_module_version": "1.5.0",
      "model_name": "DescriptionStyleModel",
      "state": {
       "description_width": ""
      }
     },
     "733437fd6c1a4c94a83ef4867e022402": {
      "model_module": "@jupyter-widgets/base",
      "model_module_version": "1.2.0",
      "model_name": "LayoutModel",
      "state": {}
     },
     "7a2760a0b2dc476ca93e6644b382db17": {
      "model_module": "@jupyter-widgets/controls",
      "model_module_version": "1.5.0",
      "model_name": "FloatProgressModel",
      "state": {
       "bar_style": "success",
       "layout": "IPY_MODEL_0fe458f26f5741d2845fe0d1c603746f",
       "max": 1,
       "style": "IPY_MODEL_8f9ccce8bc6b4abb8920f9a7b3540905",
       "value": 1
      }
     },
     "7bc7ca6667b0491a9c0d29e14b2f19ac": {
      "model_module": "@jupyter-widgets/controls",
      "model_module_version": "1.5.0",
      "model_name": "HTMLModel",
      "state": {
       "layout": "IPY_MODEL_903fc898c8f24e82a7f2101b15e57e2f",
       "style": "IPY_MODEL_7fa0a9aa2ccd4296911c7b60dc7abd8b",
       "value": "Summarize dataset: 100%"
      }
     },
     "7db09929e67f47bdb7aae61409bee4a4": {
      "model_module": "@jupyter-widgets/controls",
      "model_module_version": "1.5.0",
      "model_name": "DescriptionStyleModel",
      "state": {
       "description_width": ""
      }
     },
     "7fa0a9aa2ccd4296911c7b60dc7abd8b": {
      "model_module": "@jupyter-widgets/controls",
      "model_module_version": "1.5.0",
      "model_name": "DescriptionStyleModel",
      "state": {
       "description_width": ""
      }
     },
     "877aaa42645c467987f944b23059bfd0": {
      "model_module": "@jupyter-widgets/controls",
      "model_module_version": "1.5.0",
      "model_name": "DescriptionStyleModel",
      "state": {
       "description_width": ""
      }
     },
     "8f9ccce8bc6b4abb8920f9a7b3540905": {
      "model_module": "@jupyter-widgets/controls",
      "model_module_version": "1.5.0",
      "model_name": "ProgressStyleModel",
      "state": {
       "description_width": ""
      }
     },
     "8faa56a1516f40e7bc35d9db3b1b82d5": {
      "model_module": "@jupyter-widgets/controls",
      "model_module_version": "1.5.0",
      "model_name": "FloatProgressModel",
      "state": {
       "bar_style": "success",
       "layout": "IPY_MODEL_21c7c9bb6f6c4b3cb1982306f87051e2",
       "max": 1,
       "style": "IPY_MODEL_ebe79ce4ba9548ae94ea070f276aaa8e",
       "value": 1
      }
     },
     "903fc898c8f24e82a7f2101b15e57e2f": {
      "model_module": "@jupyter-widgets/base",
      "model_module_version": "1.2.0",
      "model_name": "LayoutModel",
      "state": {}
     },
     "9207102f6cd24dada9c637e6e8180b6a": {
      "model_module": "@jupyter-widgets/controls",
      "model_module_version": "1.5.0",
      "model_name": "ProgressStyleModel",
      "state": {
       "description_width": ""
      }
     },
     "92cc4b0756494607bbd42ff3a33e2760": {
      "model_module": "@jupyter-widgets/controls",
      "model_module_version": "1.5.0",
      "model_name": "HBoxModel",
      "state": {
       "children": [
        "IPY_MODEL_6cb58b33e1224139ae3dd5dae8e9e032",
        "IPY_MODEL_e343c86b57c14f0da2d136faf76e8bde",
        "IPY_MODEL_b0afa294a9fe4d42bd2696bd05e76b80"
       ],
       "layout": "IPY_MODEL_39f630cba9434364b963767a2c48a2c8"
      }
     },
     "9b42e48479dd48b1b749655ddf1c014c": {
      "model_module": "@jupyter-widgets/controls",
      "model_module_version": "1.5.0",
      "model_name": "HTMLModel",
      "state": {
       "layout": "IPY_MODEL_ceef77f6a6b7484da1952be461c7c72a",
       "style": "IPY_MODEL_bafcd0edfff7455697f4722eac108269",
       "value": "Summarize dataset: 100%"
      }
     },
     "9c9cb69172934d169c67518b7459e5fd": {
      "model_module": "@jupyter-widgets/controls",
      "model_module_version": "1.5.0",
      "model_name": "DescriptionStyleModel",
      "state": {
       "description_width": ""
      }
     },
     "9dce5255faf54f229d569932473edf9e": {
      "model_module": "@jupyter-widgets/base",
      "model_module_version": "1.2.0",
      "model_name": "LayoutModel",
      "state": {}
     },
     "a6cdaa85cbb746a9a989c2e27e2e791b": {
      "model_module": "@jupyter-widgets/controls",
      "model_module_version": "1.5.0",
      "model_name": "DescriptionStyleModel",
      "state": {
       "description_width": ""
      }
     },
     "b0afa294a9fe4d42bd2696bd05e76b80": {
      "model_module": "@jupyter-widgets/controls",
      "model_module_version": "1.5.0",
      "model_name": "HTMLModel",
      "state": {
       "layout": "IPY_MODEL_1cea9356caa94516aea1c2f00b19200b",
       "style": "IPY_MODEL_6e1a75a963fd4d6fb01b2f2316e95453",
       "value": " 1/1 [00:00&lt;00:00,  1.01it/s]"
      }
     },
     "b3038935ec434873bfe7318d75920390": {
      "model_module": "@jupyter-widgets/controls",
      "model_module_version": "1.5.0",
      "model_name": "ProgressStyleModel",
      "state": {
       "description_width": ""
      }
     },
     "b78f857feb3a40c784b44979ae40d739": {
      "model_module": "@jupyter-widgets/base",
      "model_module_version": "1.2.0",
      "model_name": "LayoutModel",
      "state": {}
     },
     "bafcd0edfff7455697f4722eac108269": {
      "model_module": "@jupyter-widgets/controls",
      "model_module_version": "1.5.0",
      "model_name": "DescriptionStyleModel",
      "state": {
       "description_width": ""
      }
     },
     "bb1dafd9a1b645e588a7d6776505db2d": {
      "model_module": "@jupyter-widgets/controls",
      "model_module_version": "1.5.0",
      "model_name": "HTMLModel",
      "state": {
       "layout": "IPY_MODEL_303371032f6d4ec690a64ff36c7de7c5",
       "style": "IPY_MODEL_c6b0a0b703b04951a0f2db5ea07739fe",
       "value": "Render HTML: 100%"
      }
     },
     "bc85f18688614abfa719a2c83f27a198": {
      "model_module": "@jupyter-widgets/base",
      "model_module_version": "1.2.0",
      "model_name": "LayoutModel",
      "state": {}
     },
     "bea94ea47dbc4b7197b51924ea90d83c": {
      "model_module": "@jupyter-widgets/controls",
      "model_module_version": "1.5.0",
      "model_name": "HTMLModel",
      "state": {
       "layout": "IPY_MODEL_649f79a4852f4eddb4780fc1046be6bd",
       "style": "IPY_MODEL_7db09929e67f47bdb7aae61409bee4a4",
       "value": "Generate report structure: 100%"
      }
     },
     "bef00439a31648a69d0ce8b4bc36f6ad": {
      "model_module": "@jupyter-widgets/controls",
      "model_module_version": "1.5.0",
      "model_name": "HBoxModel",
      "state": {
       "children": [
        "IPY_MODEL_051f81c793e64141a220a64552eae8e3",
        "IPY_MODEL_8faa56a1516f40e7bc35d9db3b1b82d5",
        "IPY_MODEL_5d06d2698bb44719b138263f9332ceba"
       ],
       "layout": "IPY_MODEL_e9f976068bf446308a0592ce8f3ff447"
      }
     },
     "c144973c997f4b69864bfb509cc75976": {
      "model_module": "@jupyter-widgets/controls",
      "model_module_version": "1.5.0",
      "model_name": "DescriptionStyleModel",
      "state": {
       "description_width": ""
      }
     },
     "c6b0a0b703b04951a0f2db5ea07739fe": {
      "model_module": "@jupyter-widgets/controls",
      "model_module_version": "1.5.0",
      "model_name": "DescriptionStyleModel",
      "state": {
       "description_width": ""
      }
     },
     "cb3c0b6a448c4db4b4e6122a1ea0c30c": {
      "model_module": "@jupyter-widgets/base",
      "model_module_version": "1.2.0",
      "model_name": "LayoutModel",
      "state": {}
     },
     "cb5cf2af8a55485c8eda1f95cd8d04c4": {
      "model_module": "@jupyter-widgets/base",
      "model_module_version": "1.2.0",
      "model_name": "LayoutModel",
      "state": {}
     },
     "ceef77f6a6b7484da1952be461c7c72a": {
      "model_module": "@jupyter-widgets/base",
      "model_module_version": "1.2.0",
      "model_name": "LayoutModel",
      "state": {}
     },
     "dbc616f1223340cdaa692170ffa0535a": {
      "model_module": "@jupyter-widgets/controls",
      "model_module_version": "1.5.0",
      "model_name": "HBoxModel",
      "state": {
       "children": [
        "IPY_MODEL_bb1dafd9a1b645e588a7d6776505db2d",
        "IPY_MODEL_7a2760a0b2dc476ca93e6644b382db17",
        "IPY_MODEL_2c3ca4bde315486b87c308c0d92b5c1d"
       ],
       "layout": "IPY_MODEL_0731398c903243d49957e76b51975360"
      }
     },
     "dd2d5aaf772e44c6bee45279ff75e308": {
      "model_module": "@jupyter-widgets/controls",
      "model_module_version": "1.5.0",
      "model_name": "HBoxModel",
      "state": {
       "children": [
        "IPY_MODEL_46f7c081128d4e4b9b6a462cfb6a4223",
        "IPY_MODEL_faa567f889eb409992cd11e883a5c108",
        "IPY_MODEL_54ed0bd2813d4e0daed2bec4fa3479e5"
       ],
       "layout": "IPY_MODEL_cb3c0b6a448c4db4b4e6122a1ea0c30c"
      }
     },
     "e0f6d238094c4f4a91928c5b9567eca3": {
      "model_module": "@jupyter-widgets/controls",
      "model_module_version": "1.5.0",
      "model_name": "DescriptionStyleModel",
      "state": {
       "description_width": ""
      }
     },
     "e171023071c64bd990dfa20e0a8fd33d": {
      "model_module": "@jupyter-widgets/controls",
      "model_module_version": "1.5.0",
      "model_name": "FloatProgressModel",
      "state": {
       "bar_style": "success",
       "layout": "IPY_MODEL_bc85f18688614abfa719a2c83f27a198",
       "max": 21,
       "style": "IPY_MODEL_9207102f6cd24dada9c637e6e8180b6a",
       "value": 21
      }
     },
     "e318b559939a46dc8017db68c253f132": {
      "model_module": "@jupyter-widgets/base",
      "model_module_version": "1.2.0",
      "model_name": "LayoutModel",
      "state": {}
     },
     "e343c86b57c14f0da2d136faf76e8bde": {
      "model_module": "@jupyter-widgets/controls",
      "model_module_version": "1.5.0",
      "model_name": "FloatProgressModel",
      "state": {
       "bar_style": "success",
       "layout": "IPY_MODEL_3da761ac6b1a428aa72cc9190490acb8",
       "max": 1,
       "style": "IPY_MODEL_4c4b5da6a89f4ec5ae58eedb3f66711b",
       "value": 1
      }
     },
     "e382a21ec0364f1eb148589c292b6bc9": {
      "model_module": "@jupyter-widgets/controls",
      "model_module_version": "1.5.0",
      "model_name": "DescriptionStyleModel",
      "state": {
       "description_width": ""
      }
     },
     "e9f976068bf446308a0592ce8f3ff447": {
      "model_module": "@jupyter-widgets/base",
      "model_module_version": "1.2.0",
      "model_name": "LayoutModel",
      "state": {}
     },
     "ea77e1289e9344af9fa8e55a3e327bf1": {
      "model_module": "@jupyter-widgets/base",
      "model_module_version": "1.2.0",
      "model_name": "LayoutModel",
      "state": {}
     },
     "ebe79ce4ba9548ae94ea070f276aaa8e": {
      "model_module": "@jupyter-widgets/controls",
      "model_module_version": "1.5.0",
      "model_name": "ProgressStyleModel",
      "state": {
       "description_width": ""
      }
     },
     "f075900bdec34c3f9b8da9725870091a": {
      "model_module": "@jupyter-widgets/base",
      "model_module_version": "1.2.0",
      "model_name": "LayoutModel",
      "state": {}
     },
     "f3b6dfbb1d42497db2f51ba57467bcd0": {
      "model_module": "@jupyter-widgets/controls",
      "model_module_version": "1.5.0",
      "model_name": "DescriptionStyleModel",
      "state": {
       "description_width": ""
      }
     },
     "f60a4597b235481aa3f5f9267d1c2452": {
      "model_module": "@jupyter-widgets/base",
      "model_module_version": "1.2.0",
      "model_name": "LayoutModel",
      "state": {}
     },
     "f7656580ff4e4085ac736ef131dbfe07": {
      "model_module": "@jupyter-widgets/controls",
      "model_module_version": "1.5.0",
      "model_name": "DescriptionStyleModel",
      "state": {
       "description_width": ""
      }
     },
     "f7fddf2c04314cc2bdf9fcd0e1420726": {
      "model_module": "@jupyter-widgets/base",
      "model_module_version": "1.2.0",
      "model_name": "LayoutModel",
      "state": {}
     },
     "faa567f889eb409992cd11e883a5c108": {
      "model_module": "@jupyter-widgets/controls",
      "model_module_version": "1.5.0",
      "model_name": "FloatProgressModel",
      "state": {
       "bar_style": "success",
       "layout": "IPY_MODEL_5332a5a4e4304115aef021880cd59ab7",
       "max": 1,
       "style": "IPY_MODEL_fdc5d173a9f0411d9e1f809a82dd3585",
       "value": 1
      }
     },
     "fc942613abd944ef95c247c0b7a29520": {
      "model_module": "@jupyter-widgets/controls",
      "model_module_version": "1.5.0",
      "model_name": "HBoxModel",
      "state": {
       "children": [
        "IPY_MODEL_bea94ea47dbc4b7197b51924ea90d83c",
        "IPY_MODEL_5b00b30db4d1416c8c80b9e4449132f7",
        "IPY_MODEL_31e5b73ddceb42e6a2a63aa05e56ec6b"
       ],
       "layout": "IPY_MODEL_f7fddf2c04314cc2bdf9fcd0e1420726"
      }
     },
     "fdc5d173a9f0411d9e1f809a82dd3585": {
      "model_module": "@jupyter-widgets/controls",
      "model_module_version": "1.5.0",
      "model_name": "ProgressStyleModel",
      "state": {
       "description_width": ""
      }
     }
    },
    "version_major": 2,
    "version_minor": 0
   }
  }
 },
 "nbformat": 4,
 "nbformat_minor": 4
}
